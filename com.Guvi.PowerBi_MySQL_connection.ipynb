{
 "cells": [
  {
   "cell_type": "code",
   "execution_count": 1,
   "id": "aa3aa475-1b13-409a-8e32-a6b70c88189c",
   "metadata": {},
   "outputs": [
    {
     "data": {
      "text/plain": [
       "<mysql.connector.cursor_cext.CMySQLCursor at 0x220897a9940>"
      ]
     },
     "execution_count": 1,
     "metadata": {},
     "output_type": "execute_result"
    }
   ],
   "source": [
    "from mysql import connector\n",
    "connection = connector.connect(\n",
    "    host = \"localhost\",\n",
    "    user = \"root\",\n",
    "    password = \"root\"\n",
    ")\n",
    "my_cursor=connection.cursor()\n",
    "my_cursor"
   ]
  },
  {
   "cell_type": "code",
   "execution_count": 2,
   "id": "f7e2a329-54ed-4d22-8546-8e10dfc437ba",
   "metadata": {},
   "outputs": [],
   "source": [
    "query = \"create database if not exists PowerBi\"\n",
    "my_cursor.execute(query)"
   ]
  },
  {
   "cell_type": "code",
   "execution_count": 6,
   "id": "686ffd07-65a1-4fff-af78-4ca954ecc08a",
   "metadata": {
    "scrolled": true
   },
   "outputs": [],
   "source": [
    "import pandas as pd\n",
    "df = pd.read_csv(r\"..\\Data\\ProductsData.csv\")\n",
    "table_name = \"Products\"\n",
    "\n",
    "def to_sql(df):\n",
    "    df = df.convert_dtypes()\n",
    "    \n",
    "    a = \",\".join(f\"{i.replace(\" \",\"_\")} {j}\"\n",
    "                 for i,j in zip(df.columns,df.dtypes)).replace(\"string\",\"varchar(200)\").replace(\"float64\",\"float\").replace(\"object\",\"text\").replace(\"Int64\",\"int\").replace(\"int64\",\"int\").replace(\"Float64\",\"float\") #replace dtypes from pandas to mysql\n",
    "    \n",
    "    query = f\"create table if not exists {table_name} ({a})\"\n",
    "    my_cursor.execute(query)\n",
    "def insert_data():\n",
    "    for i in df.values:\n",
    "        my_cursor.execute(f\"insert into {table_name} values {tuple(i)}\")\n",
    "        connection.commit()\n",
    "to_sql(df)\n",
    "insert_data()"
   ]
  },
  {
   "cell_type": "code",
   "execution_count": 8,
   "id": "bb549d64-6d81-4b84-9139-4fc693406ae8",
   "metadata": {},
   "outputs": [],
   "source": [
    "df = pd.read_csv(r\"..\\Data\\CustomersData.csv\")\n",
    "table_name = \"Customers\"\n",
    "# Creating table\n",
    "to_sql(df)\n",
    "# feeding/inserting the data into the table\n",
    "insert_data()"
   ]
  },
  {
   "cell_type": "code",
   "execution_count": 10,
   "id": "7b53e8f2-9e43-452a-aea1-496097300849",
   "metadata": {},
   "outputs": [],
   "source": [
    "df = pd.read_csv(r\"..\\Data\\SalesData.csv\")\n",
    "table_name = \"Sales\"\n",
    "# Creating table\n",
    "to_sql(df)\n",
    "# feeding/inserting the data into the table\n",
    "insert_data()"
   ]
  },
  {
   "cell_type": "code",
   "execution_count": 12,
   "id": "0cf2378b-610f-421d-9c2e-0504ce6cc780",
   "metadata": {},
   "outputs": [],
   "source": [
    "df = pd.read_csv(r\"..\\Data\\StoresData.csv\")\n",
    "table_name = \"Stores\"\n",
    "# Creating table\n",
    "to_sql(df)\n",
    "# feeding/inserting the data into the table\n",
    "insert_data()"
   ]
  },
  {
   "cell_type": "code",
   "execution_count": 8,
   "id": "7d152d1b-94d9-4850-a0fe-a65cdc95a989",
   "metadata": {},
   "outputs": [],
   "source": [
    "df = pd.read_csv(r\"..\\Data\\Exchange_Rates.csv\")\n",
    "table_name = \"Exchange_Rates\"\n",
    "# Creating table\n",
    "to_sql(df)\n",
    "# feeding/inserting the data into the table\n",
    "insert_data()"
   ]
  },
  {
   "cell_type": "code",
   "execution_count": null,
   "id": "0c976761-dfc0-4d02-a57d-057304f58cd9",
   "metadata": {},
   "outputs": [],
   "source": []
  }
 ],
 "metadata": {
  "kernelspec": {
   "display_name": "Python 3 (ipykernel)",
   "language": "python",
   "name": "python3"
  },
  "language_info": {
   "codemirror_mode": {
    "name": "ipython",
    "version": 3
   },
   "file_extension": ".py",
   "mimetype": "text/x-python",
   "name": "python",
   "nbconvert_exporter": "python",
   "pygments_lexer": "ipython3",
   "version": "3.12.6"
  }
 },
 "nbformat": 4,
 "nbformat_minor": 5
}
