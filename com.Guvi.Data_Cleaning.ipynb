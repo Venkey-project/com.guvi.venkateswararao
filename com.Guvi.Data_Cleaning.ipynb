{
 "cells": [
  {
   "cell_type": "code",
   "execution_count": 1,
   "id": "cbb068ac-5ced-481b-8a52-0d8ea068c163",
   "metadata": {
    "scrolled": true
   },
   "outputs": [
    {
     "name": "stderr",
     "output_type": "stream",
     "text": [
      "C:\\Users\\vmami\\AppData\\Local\\Temp\\ipykernel_30356\\877305130.py:5: FutureWarning: DataFrame.fillna with 'method' is deprecated and will raise in a future version. Use obj.ffill() or obj.bfill() instead.\n",
      "  data.fillna(method='ffill',inplace=True)\n",
      "C:\\Users\\vmami\\AppData\\Local\\Temp\\ipykernel_30356\\877305130.py:6: FutureWarning: DataFrame.fillna with 'method' is deprecated and will raise in a future version. Use obj.ffill() or obj.bfill() instead.\n",
      "  data.fillna(method='bfill',inplace=True)\n"
     ]
    }
   ],
   "source": [
    "import pandas as pd\n",
    "df = pd.read_csv(r\"..\\Data\\DataSet\\Sales.csv\")\n",
    "df=df.drop(['Delivery Date'],axis=1)\n",
    "def clean_data(data):\n",
    "    data.fillna(method='ffill',inplace=True)\n",
    "    data.fillna(method='bfill',inplace=True)\n",
    "    data.dropna(inplace=True)\n",
    "    return data\n",
    "df = clean_data(df)\n",
    "df.to_csv(r\"..\\Data\\SalesData.csv\",index=False)"
   ]
  },
  {
   "cell_type": "code",
   "execution_count": 2,
   "id": "2931f3ae-39b7-4a45-a136-44a22467e117",
   "metadata": {},
   "outputs": [
    {
     "name": "stderr",
     "output_type": "stream",
     "text": [
      "C:\\Users\\vmami\\AppData\\Local\\Temp\\ipykernel_30356\\877305130.py:5: FutureWarning: DataFrame.fillna with 'method' is deprecated and will raise in a future version. Use obj.ffill() or obj.bfill() instead.\n",
      "  data.fillna(method='ffill',inplace=True)\n",
      "C:\\Users\\vmami\\AppData\\Local\\Temp\\ipykernel_30356\\877305130.py:6: FutureWarning: DataFrame.fillna with 'method' is deprecated and will raise in a future version. Use obj.ffill() or obj.bfill() instead.\n",
      "  data.fillna(method='bfill',inplace=True)\n"
     ]
    }
   ],
   "source": [
    "from datetime import datetime\n",
    "import pandas as pd\n",
    "df = pd.read_csv(r\"..\\Data\\DataSet\\Customers.csv\",encoding='cp1252')\n",
    "df['Birthday'] = pd.to_datetime(df['Birthday'],format='%m/%d/%Y')\n",
    "df['Age'] = df['Birthday'].apply(lambda x: (datetime.now()-x).days//365)\n",
    "df = clean_data(df)\n",
    "df.to_csv(r\"..\\Data\\CustomersData.csv\",index=False)"
   ]
  },
  {
   "cell_type": "code",
   "execution_count": 3,
   "id": "7537bcae-263e-4aa9-ab08-eaa2d9139c0e",
   "metadata": {},
   "outputs": [
    {
     "name": "stderr",
     "output_type": "stream",
     "text": [
      "C:\\Users\\vmami\\AppData\\Local\\Temp\\ipykernel_30356\\877305130.py:5: FutureWarning: DataFrame.fillna with 'method' is deprecated and will raise in a future version. Use obj.ffill() or obj.bfill() instead.\n",
      "  data.fillna(method='ffill',inplace=True)\n",
      "C:\\Users\\vmami\\AppData\\Local\\Temp\\ipykernel_30356\\877305130.py:6: FutureWarning: DataFrame.fillna with 'method' is deprecated and will raise in a future version. Use obj.ffill() or obj.bfill() instead.\n",
      "  data.fillna(method='bfill',inplace=True)\n"
     ]
    }
   ],
   "source": [
    "df = pd.read_csv(r\"..\\Data\\DataSet\\Products.csv\")\n",
    "df = clean_data(df)\n",
    "df.to_csv(r\"..\\Data\\ProductsData.csv\",index=False)"
   ]
  },
  {
   "cell_type": "code",
   "execution_count": 5,
   "id": "846c8338-44f8-4387-ab4a-9e3498548bed",
   "metadata": {},
   "outputs": [
    {
     "name": "stderr",
     "output_type": "stream",
     "text": [
      "C:\\Users\\vmami\\AppData\\Local\\Temp\\ipykernel_30356\\877305130.py:5: FutureWarning: DataFrame.fillna with 'method' is deprecated and will raise in a future version. Use obj.ffill() or obj.bfill() instead.\n",
      "  data.fillna(method='ffill',inplace=True)\n",
      "C:\\Users\\vmami\\AppData\\Local\\Temp\\ipykernel_30356\\877305130.py:6: FutureWarning: DataFrame.fillna with 'method' is deprecated and will raise in a future version. Use obj.ffill() or obj.bfill() instead.\n",
      "  data.fillna(method='bfill',inplace=True)\n"
     ]
    }
   ],
   "source": [
    "df = pd.read_csv(r\"..\\Data\\DataSet\\Exchange_Rates.csv\")\n",
    "df = clean_data(df)\n",
    "df.to_csv(r\"..\\Data\\Exchange_Rates.csv\",index=False)"
   ]
  },
  {
   "cell_type": "code",
   "execution_count": 6,
   "id": "4e3ab3aa-8acd-44f8-b880-ed78796c61e4",
   "metadata": {},
   "outputs": [
    {
     "name": "stderr",
     "output_type": "stream",
     "text": [
      "C:\\Users\\vmami\\AppData\\Local\\Temp\\ipykernel_34416\\877305130.py:5: FutureWarning: DataFrame.fillna with 'method' is deprecated and will raise in a future version. Use obj.ffill() or obj.bfill() instead.\n",
      "  data.fillna(method='ffill',inplace=True)\n",
      "C:\\Users\\vmami\\AppData\\Local\\Temp\\ipykernel_34416\\877305130.py:6: FutureWarning: DataFrame.fillna with 'method' is deprecated and will raise in a future version. Use obj.ffill() or obj.bfill() instead.\n",
      "  data.fillna(method='bfill',inplace=True)\n"
     ]
    }
   ],
   "source": [
    "df = pd.read_csv(r\"..\\Data\\DataSet\\Stores.csv\")\n",
    "df = clean_data(df)\n",
    "df.to_csv(r\"..\\Data\\StoresData.csv\",index=False)"
   ]
  },
  {
   "cell_type": "code",
   "execution_count": null,
   "id": "ccb89f66-4d24-4b49-9c57-164e689e54b5",
   "metadata": {},
   "outputs": [],
   "source": []
  }
 ],
 "metadata": {
  "kernelspec": {
   "display_name": "Python 3 (ipykernel)",
   "language": "python",
   "name": "python3"
  },
  "language_info": {
   "codemirror_mode": {
    "name": "ipython",
    "version": 3
   },
   "file_extension": ".py",
   "mimetype": "text/x-python",
   "name": "python",
   "nbconvert_exporter": "python",
   "pygments_lexer": "ipython3",
   "version": "3.12.6"
  }
 },
 "nbformat": 4,
 "nbformat_minor": 5
}
