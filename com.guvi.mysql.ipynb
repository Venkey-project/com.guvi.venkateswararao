{
 "cells": [
  {
   "cell_type": "code",
   "execution_count": 38,
   "id": "525d4d43-a614-42bc-958f-a3692b7c0dd0",
   "metadata": {},
   "outputs": [
    {
     "name": "stderr",
     "output_type": "stream",
     "text": [
      "C:\\Users\\vmami\\AppData\\Local\\Temp\\ipykernel_1736\\1969020623.py:44: FutureWarning: DataFrame.applymap has been deprecated. Use DataFrame.map instead.\n",
      "  df = df.applymap(lambda x: float(x) if isinstance(x, (int, np.int64, np.float64)) else x)\n",
      "C:\\Users\\vmami\\AppData\\Local\\Temp\\ipykernel_1736\\1969020623.py:45: FutureWarning: DataFrame.applymap has been deprecated. Use DataFrame.map instead.\n",
      "  df = df.applymap(lambda x: int(x) if isinstance(x, np.int64) else x)\n"
     ]
    }
   ],
   "source": [
    "import pandas as pd\n",
    "import numpy as np\n",
    "import glob\n",
    "\n",
    "# putting all csv files into one list\n",
    "csv_files = [\n",
    "    r\"..\\Data\\ap_bus_details.csv\",\n",
    "    r\"..\\Data\\Assam_bus_details.csv\",\n",
    "    r\"..\\Data\\HimachalPradesh_bus_details.csv\",\n",
    "    r\"..\\Data\\JammuKashmir_bus_details.csv\",\n",
    "    r\"..\\Data\\Kadamba_bus_details.csv\",\n",
    "    r\"..\\Data\\Kerala_bus_details.csv\",\n",
    "    r\"..\\Data\\NorthBengal_bus_details.csv\",\n",
    "    r\"..\\Data\\Punjab_bus_details.csv\",\n",
    "    r\"..\\Data\\Rajasthan_bus_details.csv\",\n",
    "    r\"..\\Data\\SouthBengal_bus_details.csv\",\n",
    "    r\"..\\Data\\Telangana_bus_details.csv\",\n",
    "    r\"..\\Data\\UttaraPradesh_bus_details.csv\",\n",
    "    r\"..\\Data\\WestBengal_bus_details.csv\"\n",
    "]\n",
    "df = [pd.read_csv(file) for file in csv_files]\n",
    "\n",
    "# combine all dataframes in the list\n",
    "combine_df = pd.concat(df, ignore_index=True)\n",
    "combine_df.to_csv(\"Buses_data.csv\", index=False)\n",
    "\n",
    "df = pd.read_csv(r\"..\\Data\\Buses_data.csv\")\n",
    "df = df.dropna() # drop null values\n",
    "\n",
    "#add id column\n",
    "id_column = pd.Series(range(1, len(df) + 1), name='id')\n",
    "df = pd.concat([id_column, df], axis=1)\n",
    "\n",
    "\n",
    "# replace string to empty string\n",
    "df['Price'] = df['Price'].str.replace('INR ', '', regex=False)\n",
    "df['Price'] = df['Price'].astype(np.float64)\n",
    "\n",
    "#extract the digits(0-9)\n",
    "df['Seat_Availability'] = df['Seat_Availability'].str.extract(r'(\\d+)')\n",
    "df['Seat_Availability'] = df['Seat_Availability'].astype(np.int64)\n",
    "\n",
    "# Convert all numeric columns to Python native types (int and float)\n",
    "df = df.applymap(lambda x: float(x) if isinstance(x, (int, np.int64, np.float64)) else x)\n",
    "df = df.applymap(lambda x: int(x) if isinstance(x, np.int64) else x)\n",
    "\n",
    "from mysql import connector\n",
    "connection = connector.connect(\n",
    "    host = \"localhost\",\n",
    "    user = \"root\",\n",
    "    password = \"root\",\n",
    "    autocommit = True\n",
    ")\n",
    "my_cursor = connection.cursor()\n",
    "query = \"create database if not exists com_Guvi_RedBus\"\n",
    "my_cursor.execute(query)\n",
    "query = \"use com_guvi_redbus\"\n",
    "my_cursor.execute(query)\n",
    "\n",
    "a = \",\".join(f\"{i} {j}\"\n",
    "             for i,j in zip(df.columns,df.dtypes)).replace(\"float64\",\"FLOAT\").replace(\"object\",\"TEXT\").replace(\"int64\",\"INT\") #replace dtypes from pandas to mysql\n",
    "table_name = \"Bus_details\"\n",
    "my_cursor.execute(f\"create table if not exists {table_name} ({a})\")\n",
    "\n",
    "# Ensure correct number of values when inserting (including 'id' column)\n",
    "columns = df.columns.tolist()  # Get all column names\n",
    "columns_str = ', '.join(columns)  # Convert columns to a comma-separated string\n",
    "placeholders = ', '.join(['%s'] * len(columns))  # Create placeholders for the number of columns\n",
    "\n",
    "# Insert data into table\n",
    "data_to_insert = [tuple(row) for row in df.values]  # Convert dataframe rows to tuples for batch insert\n",
    "\n",
    "# Use executemany for efficient bulk insertion\n",
    "my_cursor.executemany(f\"INSERT INTO {table_name} ({columns_str}) VALUES ({placeholders})\", data_to_insert)"
   ]
  },
  {
   "cell_type": "code",
   "execution_count": 42,
   "id": "ed4f19a1-48dc-4760-9b8a-64c8db54a01f",
   "metadata": {
    "scrolled": true
   },
   "outputs": [
    {
     "name": "stdout",
     "output_type": "stream",
     "text": [
      "('id', 'int', 'NO', 'PRI', None, '')\n",
      "('Route_Name', 'text', 'YES', '', None, '')\n",
      "('Route_Link', 'text', 'YES', '', None, '')\n",
      "('Bus_Name', 'text', 'YES', '', None, '')\n",
      "('Bus_Type', 'text', 'YES', '', None, '')\n",
      "('Departing_Time', 'text', 'YES', '', None, '')\n",
      "('Duration', 'text', 'YES', '', None, '')\n",
      "('Reaching_Time', 'text', 'YES', '', None, '')\n",
      "('Star_Rating', 'float', 'YES', '', None, '')\n",
      "('Price', 'float', 'YES', '', None, '')\n",
      "('Seat_Availability', 'int', 'YES', '', None, '')\n"
     ]
    }
   ],
   "source": [
    "query = \"describe Bus_details\"\n",
    "my_cursor.execute(query)\n",
    "for db in my_cursor:\n",
    "    print(db)"
   ]
  },
  {
   "cell_type": "code",
   "execution_count": null,
   "id": "02446c86-c879-4326-a7c0-10df927de3a0",
   "metadata": {},
   "outputs": [],
   "source": []
  }
 ],
 "metadata": {
  "kernelspec": {
   "display_name": "Python 3 (ipykernel)",
   "language": "python",
   "name": "python3"
  },
  "language_info": {
   "codemirror_mode": {
    "name": "ipython",
    "version": 3
   },
   "file_extension": ".py",
   "mimetype": "text/x-python",
   "name": "python",
   "nbconvert_exporter": "python",
   "pygments_lexer": "ipython3",
   "version": "3.12.6"
  }
 },
 "nbformat": 4,
 "nbformat_minor": 5
}
